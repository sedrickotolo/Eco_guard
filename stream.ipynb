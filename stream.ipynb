{
 "cells": [
  {
   "cell_type": "code",
   "execution_count": 1,
   "id": "4b540e64",
   "metadata": {},
   "outputs": [
    {
     "name": "stdout",
     "output_type": "stream",
     "text": [
      "Requirement already satisfied: geopandas in c:\\users\\josh\\desktop\\sample_project\\env\\lib\\site-packages (0.14.0)\n",
      "Requirement already satisfied: pandas>=1.4.0 in c:\\users\\josh\\desktop\\sample_project\\env\\lib\\site-packages (from geopandas) (1.4.3)\n",
      "Requirement already satisfied: pyproj>=3.3.0 in c:\\users\\josh\\desktop\\sample_project\\env\\lib\\site-packages (from geopandas) (3.6.0)\n",
      "Requirement already satisfied: packaging in c:\\users\\josh\\desktop\\sample_project\\env\\lib\\site-packages (from geopandas) (21.3)\n",
      "Requirement already satisfied: fiona>=1.8.21 in c:\\users\\josh\\desktop\\sample_project\\env\\lib\\site-packages (from geopandas) (1.9.4.post1)\n",
      "Requirement already satisfied: shapely>=1.8.0 in c:\\users\\josh\\desktop\\sample_project\\env\\lib\\site-packages (from geopandas) (2.0.1)\n",
      "Requirement already satisfied: six in c:\\users\\josh\\desktop\\sample_project\\env\\lib\\site-packages (from fiona>=1.8.21->geopandas) (1.16.0)\n",
      "Requirement already satisfied: certifi in c:\\users\\josh\\desktop\\sample_project\\env\\lib\\site-packages (from fiona>=1.8.21->geopandas) (2023.7.22)\n",
      "Requirement already satisfied: attrs>=19.2.0 in c:\\users\\josh\\desktop\\sample_project\\env\\lib\\site-packages (from fiona>=1.8.21->geopandas) (21.4.0)\n",
      "Requirement already satisfied: click-plugins>=1.0 in c:\\users\\josh\\desktop\\sample_project\\env\\lib\\site-packages (from fiona>=1.8.21->geopandas) (1.1.1)\n",
      "Requirement already satisfied: click~=8.0 in c:\\users\\josh\\desktop\\sample_project\\env\\lib\\site-packages (from fiona>=1.8.21->geopandas) (8.1.3)\n",
      "Requirement already satisfied: cligj>=0.5 in c:\\users\\josh\\desktop\\sample_project\\env\\lib\\site-packages (from fiona>=1.8.21->geopandas) (0.7.2)\n",
      "Requirement already satisfied: python-dateutil>=2.8.1 in c:\\users\\josh\\desktop\\sample_project\\env\\lib\\site-packages (from pandas>=1.4.0->geopandas) (2.8.2)\n",
      "Requirement already satisfied: numpy>=1.21.0 in c:\\users\\josh\\desktop\\sample_project\\env\\lib\\site-packages (from pandas>=1.4.0->geopandas) (1.22.4)\n",
      "Requirement already satisfied: pytz>=2020.1 in c:\\users\\josh\\desktop\\sample_project\\env\\lib\\site-packages (from pandas>=1.4.0->geopandas) (2022.1)\n",
      "Requirement already satisfied: pyparsing!=3.0.5,>=2.0.2 in c:\\users\\josh\\desktop\\sample_project\\env\\lib\\site-packages (from packaging->geopandas) (3.0.9)\n",
      "Requirement already satisfied: colorama in c:\\users\\josh\\desktop\\sample_project\\env\\lib\\site-packages (from click~=8.0->fiona>=1.8.21->geopandas) (0.4.5)\n"
     ]
    }
   ],
   "source": [
    "!pip install geopandas"
   ]
  },
  {
   "cell_type": "code",
   "execution_count": 3,
   "id": "11ef2952",
   "metadata": {},
   "outputs": [
    {
     "name": "stdout",
     "output_type": "stream",
     "text": [
      "Collecting Nominatim\n",
      "  Using cached nominatim-0.1.tar.gz (1.7 kB)\n",
      "  Preparing metadata (setup.py): started\n",
      "  Preparing metadata (setup.py): finished with status 'done'\n",
      "Building wheels for collected packages: Nominatim\n",
      "  Building wheel for Nominatim (setup.py): started\n",
      "  Building wheel for Nominatim (setup.py): finished with status 'done'\n",
      "  Created wheel for Nominatim: filename=nominatim-0.1-py3-none-any.whl size=2346 sha256=0b9931e3487851d8c37eb6e2c22a1ff806e514bd4bb9cc3a1fb2891f6867f370\n",
      "  Stored in directory: c:\\users\\josh\\appdata\\local\\pip\\cache\\wheels\\f8\\07\\74\\000f7fd9ad62e9835eb5c224cef28c0aceb3b25c1a8c8a9891\n",
      "Successfully built Nominatim\n",
      "Installing collected packages: Nominatim\n",
      "Successfully installed Nominatim-0.1\n"
     ]
    }
   ],
   "source": [
    "# !pip install geopy\n",
    "# !pip install pushbullet\n",
    "# !pip install folium\n",
    "!pip install Nominatim"
   ]
  },
  {
   "cell_type": "code",
   "execution_count": null,
   "id": "6bfa5b18",
   "metadata": {},
   "outputs": [],
   "source": [
    "import pandas as pd\n",
    "import geopandas as gpd\n",
    "import folium\n",
    "import random\n",
    "import streamlit as st\n",
    "from geopy.geocoders import Nominatim\n",
    "# from pushbullet import Pushbullet\n",
    "\n",
    "# Load air pollution data from global.csv\n",
    "air_pollution_data = pd.read_csv('global.csv')\n",
    "\n",
    "# Load Uganda district boundaries GeoJSON file\n",
    "uganda_districts = gpd.read_file('uganda_districts.geojson')\n",
    "\n",
    "air_pollution_data.head(5)\n",
    "\n",
    "# Function to get the district name from coordinates\n",
    "def get_district_name(latitude, longitude):\n",
    "    geolocator = Nominatim(user_agent=\"geoapiExercises\")\n",
    "    location = geolocator.reverse(f\"{latitude}, {longitude}\", exactly_one=True)\n",
    "    address = location.raw['address']\n",
    "    district_name = address.get('county', '')  # Use 'county' instead of 'country' to get district name\n",
    "\n",
    "    return district_name\n",
    "\n",
    "# Function to send notifications based on air pollution levels\n",
    "def send_notifications(district_name, pollution_value):\n",
    "    pb = Pushbullet('o.61fA5UUNB8HmBRCHUSoys6O6OFw4G7wJ')  # Replace with your Pushbullet API key\n",
    "\n",
    "    if pollution_value > 80:\n",
    "        alert_message = f\"High Pollution rates in {district_name}! Please move to a new area or put on a mask.\"\n",
    "        pb.push_note(f\"Air Quality Alert in {district_name}\", alert_message)\n",
    "    elif pollution_value < 20:\n",
    "        alert_message = f\"The air in {district_name} is now safe to breathe. Feel at home!\"\n",
    "        pb.push_note(f\"Air Quality Improvement in {district_name}\", alert_message)\n",
    "\n",
    "# Function to generate random air pollution data for districts\n",
    "def generate_random_data():\n",
    "    districts = ['Abim', 'Amolatar', 'Alebtong']  # Replace with your district names\n",
    "    air_pollution_values = [random.uniform(0, 100) for _ in districts]\n",
    "    data = {'name': districts, 'air_pollution_value': air_pollution_values}\n",
    "    return pd.DataFrame(data)\n",
    "\n",
    "# Main Streamlit app\n",
    "def main():\n",
    "    st.title(\"Uganda Air Pollution Monitoring\")\n",
    "\n",
    "    # Get user's location coordinates\n",
    "    latitude = st.number_input(\"Enter Latitude:\")\n",
    "    longitude = st.number_input(\"Enter Longitude:\")\n",
    "\n",
    "    # Convert coordinates to district name\n",
    "    district_name = get_district_name(latitude, longitude)\n",
    "    st.write(f\"You are in {district_name}.\")\n",
    "\n",
    "    # Generate and display air pollution data for the district\n",
    "    district_pollution = air_pollution_data[air_pollution_data['Country'] == district_name]\n",
    "\n",
    "    st.subheader(\"Air Pollution Data for Your District\")\n",
    "    st.write(district_pollution)\n",
    "\n",
    "    # Send notifications if pollution thresholds are met\n",
    "    if not district_pollution.empty:\n",
    "        pollution_value = district_pollution.iloc[0]['air_pollution_value']\n",
    "#         send_notifications(district_name, pollution_value)\n",
    "\n",
    "    # Display a map with the user's location\n",
    "    st.subheader(\"Map Showing Your Location\")\n",
    "    m = folium.Map(location=[latitude, longitude], zoom_start=10)\n",
    "    folium.Marker([latitude, longitude], tooltip=\"Your Location\").add_to(m)\n",
    "    st.write(m)\n",
    "\n",
    "if __name__ == \"__main__\":\n",
    "    main()"
   ]
  }
 ],
 "metadata": {
  "kernelspec": {
   "display_name": "Python 3 (ipykernel)",
   "language": "python",
   "name": "python3"
  },
  "language_info": {
   "codemirror_mode": {
    "name": "ipython",
    "version": 3
   },
   "file_extension": ".py",
   "mimetype": "text/x-python",
   "name": "python",
   "nbconvert_exporter": "python",
   "pygments_lexer": "ipython3",
   "version": "3.10.4"
  }
 },
 "nbformat": 4,
 "nbformat_minor": 5
}
